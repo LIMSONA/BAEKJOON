{
 "cells": [
  {
   "cell_type": "markdown",
   "id": "413473dd",
   "metadata": {},
   "source": [
    "# 문자열 리스트 합치기, 추가하기  \n",
    "**'구분자' . join ( 문자열리스트 )**  "
   ]
  },
  {
   "cell_type": "markdown",
   "id": "934ada63",
   "metadata": {},
   "source": [
    "## 예시"
   ]
  },
  {
   "cell_type": "code",
   "execution_count": 1,
   "id": "700a5284",
   "metadata": {},
   "outputs": [
    {
     "data": {
      "text/plain": [
       "'월화수목금토일'"
      ]
     },
     "execution_count": 1,
     "metadata": {},
     "output_type": "execute_result"
    }
   ],
   "source": [
    "a= [ \"월\", \"화\", \"수\", \"목\", \"금\", \"토\", \"일\"]\n",
    "\n",
    "\"\".join(a) #다 이어 붙이기"
   ]
  },
  {
   "cell_type": "code",
   "execution_count": 2,
   "id": "0fb57dcc",
   "metadata": {},
   "outputs": [
    {
     "data": {
      "text/plain": [
       "'월 화 수 목 금 토 일'"
      ]
     },
     "execution_count": 2,
     "metadata": {},
     "output_type": "execute_result"
    }
   ],
   "source": [
    "b= [ \"월\", \"화\", \"수\", \"목\", \"금\", \"토\", \"일\"]\n",
    "\n",
    "\" \".join(b) #공백으로 이어 붙이기"
   ]
  },
  {
   "cell_type": "code",
   "execution_count": 3,
   "id": "0a048870",
   "metadata": {
    "scrolled": true
   },
   "outputs": [
    {
     "data": {
      "text/plain": [
       "'월-화-수-목-금-토-일'"
      ]
     },
     "execution_count": 3,
     "metadata": {},
     "output_type": "execute_result"
    }
   ],
   "source": [
    "c= [ \"월\", \"화\", \"수\", \"목\", \"금\", \"토\", \"일\"]\n",
    "\n",
    "\"-\".join(c) # 하이픈(-)으로 이어 붙이기"
   ]
  },
  {
   "cell_type": "markdown",
   "id": "95512ae6",
   "metadata": {},
   "source": [
    "## 심화"
   ]
  },
  {
   "cell_type": "code",
   "execution_count": 4,
   "id": "5bc07224",
   "metadata": {},
   "outputs": [
    {
     "data": {
      "text/plain": [
       "'1★2★3★4★5★6★7'"
      ]
     },
     "execution_count": 4,
     "metadata": {},
     "output_type": "execute_result"
    }
   ],
   "source": [
    "num= [ 1, 2, 3, 4, 5, 6, 7]\n",
    "\n",
    "# 숫자로 이루어진 리스트이기 때문에 문자열로 바꿔줘야, join 사용이 가능하다\n",
    "\n",
    "\"★\".join( map(str, num) )"
   ]
  },
  {
   "cell_type": "code",
   "execution_count": null,
   "id": "273aef9f",
   "metadata": {},
   "outputs": [],
   "source": []
  }
 ],
 "metadata": {
  "kernelspec": {
   "display_name": "Python 3 (ipykernel)",
   "language": "python",
   "name": "python3"
  },
  "language_info": {
   "codemirror_mode": {
    "name": "ipython",
    "version": 3
   },
   "file_extension": ".py",
   "mimetype": "text/x-python",
   "name": "python",
   "nbconvert_exporter": "python",
   "pygments_lexer": "ipython3",
   "version": "3.9.12"
  },
  "toc": {
   "base_numbering": 1,
   "nav_menu": {},
   "number_sections": true,
   "sideBar": true,
   "skip_h1_title": false,
   "title_cell": "Table of Contents",
   "title_sidebar": "Contents",
   "toc_cell": false,
   "toc_position": {},
   "toc_section_display": true,
   "toc_window_display": false
  }
 },
 "nbformat": 4,
 "nbformat_minor": 5
}
